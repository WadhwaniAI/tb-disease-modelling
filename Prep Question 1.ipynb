{
 "cells": [
  {
   "cell_type": "code",
   "execution_count": 1,
   "id": "71474c9b",
   "metadata": {},
   "outputs": [],
   "source": [
    "#Importing the libraries\n",
    "import pandas as pd\n",
    "import numpy as np\n",
    "import matplotlib.pyplot as plt\n",
    "from scipy.integrate import odeint"
   ]
  },
  {
   "cell_type": "code",
   "execution_count": 2,
   "id": "0a0f4edc",
   "metadata": {},
   "outputs": [],
   "source": [
    "# Initial Values \n",
    "# I = infected population\n",
    "# R = Recovered Population\n",
    "# S = Susceptible Population\n",
    "# assumption - constant population size\n",
    "\n",
    "I=10**(-6)\n",
    "R=0\n",
    "S=1-10**(-6)\n",
    "y=np.array([S,I,R])"
   ]
  },
  {
   "cell_type": "code",
   "execution_count": 3,
   "id": "0746e040",
   "metadata": {},
   "outputs": [],
   "source": [
    "#Setting constants\n",
    "beta=0.2\n",
    "gamma=0.1"
   ]
  },
  {
   "cell_type": "code",
   "execution_count": 4,
   "id": "2e4af60a",
   "metadata": {},
   "outputs": [],
   "source": [
    "#we will create a function in Python to estimate the S, I and R with time \n",
    "def model(y, t):\n",
    "    S = y[0]\n",
    "    I = y[1]\n",
    "    R = y[2]\n",
    "    \n",
    "    lamda = beta*I\n",
    "    dS = -lamda*S\n",
    "    dI = lamda*S - gamma*I\n",
    "    dR = gamma*I\n",
    "    \n",
    "    return [dS, dI, dR]"
   ]
  },
  {
   "cell_type": "code",
   "execution_count": 5,
   "id": "8a376ec2",
   "metadata": {},
   "outputs": [],
   "source": [
    "# assuming teq = 1000 days\n",
    "teq = 1000\n",
    "# getting an interval of 't'\n",
    "t = np.arange(0, teq, 1)\n",
    "\n",
    "# running the odeint module for generating the dataframe\n",
    "table_data = odeint(model, y, t)\n",
    "table_dataframe = pd.DataFrame(table_data, columns = ['S', 'I', 'R'])"
   ]
  },
  {
   "cell_type": "code",
   "execution_count": 6,
   "id": "06f1376f",
   "metadata": {},
   "outputs": [
    {
     "data": {
      "image/png": "[encoded data removed]",
      "text/plain": [
       "<Figure size 432x288 with 1 Axes>"
      ]
     },
     "metadata": {
      "needs_background": "light"
     },
     "output_type": "display_data"
    }
   ],
   "source": [
    "# Plotting the parameters where we show the timesteps as y-axis and count as x-axis\n",
    "ax = table_dataframe.plot()\n",
    "ax.set_xlabel(\"Days\")\n",
    "ax.set_ylabel('Proportion')\n",
    "plt.show()"
   ]
  },
  {
   "cell_type": "code",
   "execution_count": 7,
   "id": "bc8ff055",
   "metadata": {},
   "outputs": [
    {
     "name": "stdout",
     "output_type": "stream",
     "text": [
      "Maximum value of Prevalence I is: 0.15340862165370073\n"
     ]
    }
   ],
   "source": [
    "Maximum_prevalence=np.max(table_dataframe['I'])\n",
    "print('Maximum value of Prevalence I is:',Maximum_prevalence)"
   ]
  },
  {
   "cell_type": "code",
   "execution_count": null,
   "id": "0486663e",
   "metadata": {},
   "outputs": [],
   "source": []
  }
 ],
 "metadata": {
  "kernelspec": {
   "display_name": "Python 3",
   "language": "python",
   "name": "python3"
  },
  "language_info": {
   "codemirror_mode": {
    "name": "ipython",
    "version": 3
   },
   "file_extension": ".py",
   "mimetype": "text/x-python",
   "name": "python",
   "nbconvert_exporter": "python",
   "pygments_lexer": "ipython3",
   "version": "3.8.8"
  }
 },
 "nbformat": 4,
 "nbformat_minor": 5
}
