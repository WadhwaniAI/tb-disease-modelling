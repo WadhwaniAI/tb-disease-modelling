{
 "cells": [
  {
   "cell_type": "code",
   "execution_count": 1,
   "id": "d6ce8848",
   "metadata": {},
   "outputs": [],
   "source": [
    "#Importing the libraries\n",
    "import pandas as pd\n",
    "import numpy as np\n",
    "import matplotlib.pyplot as plt\n",
    "from scipy.integrate import odeint"
   ]
  },
  {
   "cell_type": "code",
   "execution_count": 2,
   "id": "0c898e74",
   "metadata": {},
   "outputs": [],
   "source": [
    "# Initial Values \n",
    "# I = infected population\n",
    "# R = Recovered Population\n",
    "# S = Susceptible Population\n",
    "# assumption - constant population size\n",
    "\n",
    "I=10**(-6)\n",
    "R=0\n",
    "S=1-10**(-6)\n",
    "y=np.array([S,I,R])"
   ]
  },
  {
   "cell_type": "code",
   "execution_count": 3,
   "id": "a9b35cd2",
   "metadata": {},
   "outputs": [],
   "source": [
    "#Setting constants\n",
    "beta=np.arange(0,1,0.0001)\n",
    "gamma=0.1\n",
    "\n",
    "max_I=np.empty(len(beta))"
   ]
  },
  {
   "cell_type": "code",
   "execution_count": 4,
   "id": "aedb2c12",
   "metadata": {},
   "outputs": [],
   "source": [
    "def model(y, t,b,gamma):\n",
    "    S = y[0]\n",
    "    I = y[1]\n",
    "    R = y[2]\n",
    "    \n",
    "    lamda = b*I\n",
    "    dS = -lamda*S\n",
    "    dI = lamda*S - gamma*I\n",
    "    dR = gamma*I\n",
    "    \n",
    "    return [dS, dI, dR]\n",
    "        \n",
    "# assuming teq = 1000 days\n",
    "teq = 1000\n",
    "# getting an interval of 't'\n",
    "t = np.arange(0, teq, 1)\n",
    "        \n",
    "#beta=0.001\n",
    "for i in range(len(beta)):\n",
    "    table_data = odeint(model,y, t, args=(beta[i],gamma))\n",
    "    table_dataframe = pd.DataFrame(table_data, columns = ['S', 'I', 'R'])\n",
    "    max_I[i]=np.max(table_dataframe['I'])"
   ]
  },
  {
   "cell_type": "code",
   "execution_count": 5,
   "id": "57f56ae8",
   "metadata": {},
   "outputs": [
    {
     "data": {
      "text/plain": [
       "[<matplotlib.lines.Line2D at 0x24ad7aa1910>]"
      ]
     },
     "execution_count": 5,
     "metadata": {},
     "output_type": "execute_result"
    },
    {
     "data": {
      "image/png": "[encoded data removed]",
      "text/plain": [
       "<Figure size 432x288 with 1 Axes>"
      ]
     },
     "metadata": {
      "needs_background": "light"
     },
     "output_type": "display_data"
    }
   ],
   "source": [
    "plt.plot(beta,max_I)"
   ]
  },
  {
   "cell_type": "code",
   "execution_count": 6,
   "id": "e4dfdb76",
   "metadata": {},
   "outputs": [
    {
     "name": "stdout",
     "output_type": "stream",
     "text": [
      "Value of beta is approximately 0.29\n"
     ]
    }
   ],
   "source": [
    "print('Value of beta is approximately',0.29)"
   ]
  },
  {
   "cell_type": "code",
   "execution_count": null,
   "id": "15e26cf0",
   "metadata": {},
   "outputs": [],
   "source": []
  }
 ],
 "metadata": {
  "kernelspec": {
   "display_name": "Python 3",
   "language": "python",
   "name": "python3"
  },
  "language_info": {
   "codemirror_mode": {
    "name": "ipython",
    "version": 3
   },
   "file_extension": ".py",
   "mimetype": "text/x-python",
   "name": "python",
   "nbconvert_exporter": "python",
   "pygments_lexer": "ipython3",
   "version": "3.8.8"
  }
 },
 "nbformat": 4,
 "nbformat_minor": 5
}
