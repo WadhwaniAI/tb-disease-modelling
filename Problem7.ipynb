{
 "cells": [
  {
   "cell_type": "code",
   "execution_count": 1,
   "id": "e77c5e64",
   "metadata": {},
   "outputs": [],
   "source": [
    "import numpy as np\n",
    "import pandas as pd\n",
    "import matplotlib.pyplot as plt\n",
    "from scipy.integrate import odeint\n",
    "beta  = 20;                                                                # Infections per year, per infectious case\n",
    "gamma = 1;                                                                 # Rate of cure, through treatment or self-cure\n",
    "u     = 0.0826;                                                            # Hazard rate of reactivation from latent 'fast' infection\n",
    "v     = 0.0006;                                                            # Hazard rate of reactivation from latent 'slow' infection\n",
    "w     = 0.872;                                                             # Hazard rate of stabilising from latent 'fast' to 'slow' status\n",
    "muTB  = 1/6;                                                               # Hazard rate of death from TB\n",
    "mu    = 1/70;                                                              # Background mortality hazard\n",
    "\n",
    "seed = 10**(-6); init = [1-seed, seed, 0, 0, 0, 0];                                 # Introducing a perturbation ('seed') to the disease-free equilibrium"
   ]
  },
  {
   "cell_type": "code",
   "execution_count": 2,
   "id": "ea48e366",
   "metadata": {},
   "outputs": [
    {
     "data": {
      "text/plain": [
       "Text(0, 0.5, 'Incidence per 100,000 population')"
      ]
     },
     "execution_count": 2,
     "metadata": {},
     "output_type": "execute_result"
    },
    {
     "data": {
      "image/png": "[encoded data removed]",
      "text/plain": [
       "<Figure size 432x288 with 1 Axes>"
      ]
     },
     "metadata": {
      "needs_background": "light"
     },
     "output_type": "display_data"
    }
   ],
   "source": [
    "def goveqs(y,t, beta, gamma, u, v, w, muTB, mu):\n",
    "    \n",
    "    #Function defining the governing equations (local gradient)\n",
    "    #y:    state vector at time 't'\n",
    "    #t:     time (not actually used in the current governing equations, but kept as placeholder)\n",
    "    #dydt:   vector of first derivatives for each compartment\n",
    "\n",
    "    \n",
    "    #Initialise the output vector\n",
    "    dydt = np.zeros(len(y));\n",
    "    U  = y[0];\n",
    "    Lf = y[1];\n",
    "    Ls = y[2];\n",
    "    I  = y[3];\n",
    "    R  = y[4];\n",
    "    J  = y[5];\n",
    "    N  = U+Lf+Ls+I+R;\n",
    "\n",
    "    # Set up the governing equations\n",
    "    dUdt = -beta*U*I/N + mu*N + muTB*I - mu*U;                               # dU/dt\n",
    "    dLfdt = beta*U*I/N - (u + w + mu)*Lf;                                     # dLf/dt\n",
    "    dLsdt = w*Lf - (v + mu)*Ls;                                               # dLs/dt\n",
    "    dIdt = u*Lf + v*Ls - (mu + muTB + gamma)*I;                              # dI/dt\n",
    "    dRdt = gamma*I - mu*R;                                                   # dR/dt\n",
    "    dJdt = u*Lf + v*Ls;                                                      # dJ/dt\n",
    "\n",
    "    dydt = [dUdt, dLfdt, dLsdt, dIdt, dRdt, dJdt]\n",
    "    return dydt\n",
    "\n",
    "#Solve the model, plotting incidence over time\n",
    "geq = lambda y,t: goveqs(y,t, beta, gamma, u, v, w, muTB, mu);               # Function handle to goveqs, allowing us to fix model parameters when running the simulation\n",
    "soln = odeint(geq,init,np.arange(0, 500+1, 1))                                      # Simulating the epidemic for 500 years, to equilibrium\n",
    "\n",
    "tb_df = pd.DataFrame(soln, columns = ['U', 'Lf', 'Ls', 'I', 'R', 'J'])\n",
    "\n",
    "a=tb_df['J']\n",
    "Incidence=np.multiply([x - a[i - 1] for i, x in enumerate(a) if i > 0],1e5)\n",
    "plt.plot(range(500),Incidence, linewidth = 2.5)\n",
    "plt.xlabel(\"Years\", size=14)\n",
    "plt.ylabel(\"Incidence per 100,000 population\", size=14)"
   ]
  }
 ],
 "metadata": {
  "kernelspec": {
   "display_name": "Python 3",
   "language": "python",
   "name": "python3"
  },
  "language_info": {
   "codemirror_mode": {
    "name": "ipython",
    "version": 3
   },
   "file_extension": ".py",
   "mimetype": "text/x-python",
   "name": "python",
   "nbconvert_exporter": "python",
   "pygments_lexer": "ipython3",
   "version": "3.8.8"
  }
 },
 "nbformat": 4,
 "nbformat_minor": 5
}
